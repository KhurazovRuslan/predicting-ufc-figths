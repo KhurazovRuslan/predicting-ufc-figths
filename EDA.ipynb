{
 "cells": [
  {
   "cell_type": "markdown",
   "metadata": {},
   "source": [
    "# Simple EDA of UFC events and weightclasses"
   ]
  },
  {
   "cell_type": "markdown",
   "metadata": {},
   "source": [
    "In this notebook I'm trying to make some exploritory analysis of events and weightclasses in the most popular mix martial arts promotion, the Ultimate Fighting Championship. All data used in the analysis was scraped from <a href='http://ufcstats.com/statistics/events/completed'> UFC Stats website</a>."
   ]
  },
  {
   "cell_type": "markdown",
   "metadata": {},
   "source": [
    "The analysis is done to answer some simple questions:\n",
    "#### <li>Did global pandemic influenced the number of events UFC had in 2020?</li>\n",
    "#### <li>Is Las Vegas really a fighting capital of the world?</li>\n",
    "#### <li>What is the most exciting weigtclass to watch?</li>"
   ]
  },
  {
   "cell_type": "markdown",
   "metadata": {},
   "source": [
    "First, import libraries and read the.\n",
    "All data is scrapped from from <a href='http://ufcstats.com/statistics/events/completed'> UFC Stats website</a> and stored in three .csv files: <a href='events_data.csv'>events_data.csv</a> (info about the name, date and place of the event and a link to event page of UFC stats), <a href='fighters_data.csv'>fighters_data.csv</a> (general info about every fighter in UFC history including their names, fighting records (before and in UFC) and physical attributes) and <a href='fights_data.csv'>fights_data.csv</a> (info on every fight in every event starting from UFC 2 in 1994)."
   ]
  },
  {
   "cell_type": "code",
   "execution_count": 5,
   "metadata": {},
   "outputs": [],
   "source": [
    "# importing the libraries for EDA\n",
    "import warnings\n",
    "warnings.filterwarnings('ignore')\n",
    "import time\n",
    "from datetime import datetime\n",
    "import pandas as pd\n",
    "import numpy as np\n",
    "import matplotlib.pyplot as plt\n",
    "import seaborn as sns\n",
    "%matplotlib inline"
   ]
  },
  {
   "cell_type": "code",
   "execution_count": 6,
   "metadata": {},
   "outputs": [],
   "source": [
    "# reading the files\n",
    "events = pd.read_csv('events_data.csv')\n",
    "fighters = pd.read_csv('fighters_data.csv')\n",
    "fights = pd.read_csv('fights_data.csv')"
   ]
  },
  {
   "cell_type": "markdown",
   "metadata": {},
   "source": [
    "Displaying first 5 rows and general info about datasets."
   ]
  },
  {
   "cell_type": "code",
   "execution_count": 7,
   "metadata": {},
   "outputs": [
    {
     "data": {
      "text/html": [
       "<div>\n",
       "<style scoped>\n",
       "    .dataframe tbody tr th:only-of-type {\n",
       "        vertical-align: middle;\n",
       "    }\n",
       "\n",
       "    .dataframe tbody tr th {\n",
       "        vertical-align: top;\n",
       "    }\n",
       "\n",
       "    .dataframe thead th {\n",
       "        text-align: right;\n",
       "    }\n",
       "</style>\n",
       "<table border=\"1\" class=\"dataframe\">\n",
       "  <thead>\n",
       "    <tr style=\"text-align: right;\">\n",
       "      <th></th>\n",
       "      <th>event name</th>\n",
       "      <th>event date</th>\n",
       "      <th>event place</th>\n",
       "      <th>event link</th>\n",
       "    </tr>\n",
       "  </thead>\n",
       "  <tbody>\n",
       "    <tr>\n",
       "      <th>0</th>\n",
       "      <td>UFC 256: Figueiredo vs. Moreno</td>\n",
       "      <td>December 12, 2020</td>\n",
       "      <td>Las Vegas, Nevada, USA</td>\n",
       "      <td>http://ufcstats.com/event-details/d0d43cb9b14f...</td>\n",
       "    </tr>\n",
       "    <tr>\n",
       "      <th>1</th>\n",
       "      <td>UFC Fight Night: Hermansson vs. Vettori</td>\n",
       "      <td>December 05, 2020</td>\n",
       "      <td>Las Vegas, Nevada, USA</td>\n",
       "      <td>http://ufcstats.com/event-details/398b440e73d5...</td>\n",
       "    </tr>\n",
       "    <tr>\n",
       "      <th>2</th>\n",
       "      <td>UFC Fight Night: Smith vs. Clark</td>\n",
       "      <td>November 28, 2020</td>\n",
       "      <td>Las Vegas, Nevada, USA</td>\n",
       "      <td>http://ufcstats.com/event-details/992c82450d96...</td>\n",
       "    </tr>\n",
       "    <tr>\n",
       "      <th>3</th>\n",
       "      <td>UFC 255: Figueiredo vs. Perez</td>\n",
       "      <td>November 21, 2020</td>\n",
       "      <td>Las Vegas, Nevada, USA</td>\n",
       "      <td>http://ufcstats.com/event-details/bbb15f301e4a...</td>\n",
       "    </tr>\n",
       "    <tr>\n",
       "      <th>4</th>\n",
       "      <td>UFC Fight Night: Felder vs. Dos Anjos</td>\n",
       "      <td>November 14, 2020</td>\n",
       "      <td>Las Vegas, Nevada, USA</td>\n",
       "      <td>http://ufcstats.com/event-details/3bc27ec15fac...</td>\n",
       "    </tr>\n",
       "  </tbody>\n",
       "</table>\n",
       "</div>"
      ],
      "text/plain": [
       "                                event name         event date  \\\n",
       "0           UFC 256: Figueiredo vs. Moreno  December 12, 2020   \n",
       "1  UFC Fight Night: Hermansson vs. Vettori  December 05, 2020   \n",
       "2         UFC Fight Night: Smith vs. Clark  November 28, 2020   \n",
       "3            UFC 255: Figueiredo vs. Perez  November 21, 2020   \n",
       "4    UFC Fight Night: Felder vs. Dos Anjos  November 14, 2020   \n",
       "\n",
       "              event place                                         event link  \n",
       "0  Las Vegas, Nevada, USA  http://ufcstats.com/event-details/d0d43cb9b14f...  \n",
       "1  Las Vegas, Nevada, USA  http://ufcstats.com/event-details/398b440e73d5...  \n",
       "2  Las Vegas, Nevada, USA  http://ufcstats.com/event-details/992c82450d96...  \n",
       "3  Las Vegas, Nevada, USA  http://ufcstats.com/event-details/bbb15f301e4a...  \n",
       "4  Las Vegas, Nevada, USA  http://ufcstats.com/event-details/3bc27ec15fac...  "
      ]
     },
     "execution_count": 7,
     "metadata": {},
     "output_type": "execute_result"
    }
   ],
   "source": [
    "events.head()"
   ]
  },
  {
   "cell_type": "code",
   "execution_count": 8,
   "metadata": {},
   "outputs": [
    {
     "name": "stdout",
     "output_type": "stream",
     "text": [
      "<class 'pandas.core.frame.DataFrame'>\n",
      "RangeIndex: 544 entries, 0 to 543\n",
      "Data columns (total 4 columns):\n",
      " #   Column       Non-Null Count  Dtype \n",
      "---  ------       --------------  ----- \n",
      " 0   event name   544 non-null    object\n",
      " 1   event date   544 non-null    object\n",
      " 2   event place  544 non-null    object\n",
      " 3   event link   544 non-null    object\n",
      "dtypes: object(4)\n",
      "memory usage: 17.1+ KB\n"
     ]
    }
   ],
   "source": [
    "events.info()"
   ]
  },
  {
   "cell_type": "code",
   "execution_count": 9,
   "metadata": {},
   "outputs": [
    {
     "data": {
      "text/html": [
       "<div>\n",
       "<style scoped>\n",
       "    .dataframe tbody tr th:only-of-type {\n",
       "        vertical-align: middle;\n",
       "    }\n",
       "\n",
       "    .dataframe tbody tr th {\n",
       "        vertical-align: top;\n",
       "    }\n",
       "\n",
       "    .dataframe thead th {\n",
       "        text-align: right;\n",
       "    }\n",
       "</style>\n",
       "<table border=\"1\" class=\"dataframe\">\n",
       "  <thead>\n",
       "    <tr style=\"text-align: right;\">\n",
       "      <th></th>\n",
       "      <th>first name</th>\n",
       "      <th>last name</th>\n",
       "      <th>nickname</th>\n",
       "      <th>link</th>\n",
       "      <th>height(ft)</th>\n",
       "      <th>weight(lb)</th>\n",
       "      <th>reach(inch)</th>\n",
       "      <th>stance</th>\n",
       "      <th>wins</th>\n",
       "      <th>losses</th>\n",
       "      <th>draws</th>\n",
       "      <th>belt</th>\n",
       "      <th>SLpM</th>\n",
       "      <th>Str. Acc</th>\n",
       "      <th>SApM</th>\n",
       "      <th>Str. Def</th>\n",
       "      <th>TD Avg</th>\n",
       "      <th>TD Acc.</th>\n",
       "      <th>TD Def</th>\n",
       "      <th>Sub. Avg</th>\n",
       "    </tr>\n",
       "  </thead>\n",
       "  <tbody>\n",
       "    <tr>\n",
       "      <th>0</th>\n",
       "      <td>Tom</td>\n",
       "      <td>Aaron</td>\n",
       "      <td>NaN</td>\n",
       "      <td>http://ufcstats.com/fighter-details/93fe7332d1...</td>\n",
       "      <td>--</td>\n",
       "      <td>155 lbs.</td>\n",
       "      <td>--</td>\n",
       "      <td>NaN</td>\n",
       "      <td>5</td>\n",
       "      <td>3</td>\n",
       "      <td>0</td>\n",
       "      <td>0</td>\n",
       "      <td>0.00</td>\n",
       "      <td>0%</td>\n",
       "      <td>0.00</td>\n",
       "      <td>0%</td>\n",
       "      <td>0.00</td>\n",
       "      <td>0%</td>\n",
       "      <td>0%</td>\n",
       "      <td>0.0</td>\n",
       "    </tr>\n",
       "    <tr>\n",
       "      <th>1</th>\n",
       "      <td>Danny</td>\n",
       "      <td>Abbadi</td>\n",
       "      <td>The Assassin</td>\n",
       "      <td>http://ufcstats.com/fighter-details/15df64c02b...</td>\n",
       "      <td>5' 11\"</td>\n",
       "      <td>155 lbs.</td>\n",
       "      <td>--</td>\n",
       "      <td>Orthodox</td>\n",
       "      <td>4</td>\n",
       "      <td>6</td>\n",
       "      <td>0</td>\n",
       "      <td>0</td>\n",
       "      <td>3.29</td>\n",
       "      <td>38%</td>\n",
       "      <td>4.41</td>\n",
       "      <td>57%</td>\n",
       "      <td>0.00</td>\n",
       "      <td>0%</td>\n",
       "      <td>77%</td>\n",
       "      <td>0.0</td>\n",
       "    </tr>\n",
       "    <tr>\n",
       "      <th>2</th>\n",
       "      <td>David</td>\n",
       "      <td>Abbott</td>\n",
       "      <td>Tank</td>\n",
       "      <td>http://ufcstats.com/fighter-details/b361180739...</td>\n",
       "      <td>6' 0\"</td>\n",
       "      <td>265 lbs.</td>\n",
       "      <td>--</td>\n",
       "      <td>Switch</td>\n",
       "      <td>10</td>\n",
       "      <td>15</td>\n",
       "      <td>0</td>\n",
       "      <td>0</td>\n",
       "      <td>1.35</td>\n",
       "      <td>30%</td>\n",
       "      <td>3.55</td>\n",
       "      <td>38%</td>\n",
       "      <td>1.07</td>\n",
       "      <td>33%</td>\n",
       "      <td>66%</td>\n",
       "      <td>0.0</td>\n",
       "    </tr>\n",
       "    <tr>\n",
       "      <th>3</th>\n",
       "      <td>Shamil</td>\n",
       "      <td>Abdurakhimov</td>\n",
       "      <td>Abrek</td>\n",
       "      <td>http://ufcstats.com/fighter-details/2f5cbecbbe...</td>\n",
       "      <td>6' 3\"</td>\n",
       "      <td>235 lbs.</td>\n",
       "      <td>76.0\"</td>\n",
       "      <td>Orthodox</td>\n",
       "      <td>20</td>\n",
       "      <td>5</td>\n",
       "      <td>0</td>\n",
       "      <td>0</td>\n",
       "      <td>2.45</td>\n",
       "      <td>44%</td>\n",
       "      <td>2.45</td>\n",
       "      <td>58%</td>\n",
       "      <td>1.23</td>\n",
       "      <td>24%</td>\n",
       "      <td>47%</td>\n",
       "      <td>0.2</td>\n",
       "    </tr>\n",
       "    <tr>\n",
       "      <th>4</th>\n",
       "      <td>Hiroyuki</td>\n",
       "      <td>Abe</td>\n",
       "      <td>Abe Ani</td>\n",
       "      <td>http://ufcstats.com/fighter-details/c0ed7b2081...</td>\n",
       "      <td>5' 6\"</td>\n",
       "      <td>145 lbs.</td>\n",
       "      <td>--</td>\n",
       "      <td>Orthodox</td>\n",
       "      <td>8</td>\n",
       "      <td>15</td>\n",
       "      <td>3</td>\n",
       "      <td>0</td>\n",
       "      <td>1.71</td>\n",
       "      <td>36%</td>\n",
       "      <td>3.11</td>\n",
       "      <td>63%</td>\n",
       "      <td>0.00</td>\n",
       "      <td>0%</td>\n",
       "      <td>33%</td>\n",
       "      <td>0.0</td>\n",
       "    </tr>\n",
       "  </tbody>\n",
       "</table>\n",
       "</div>"
      ],
      "text/plain": [
       "  first name     last name      nickname  \\\n",
       "0        Tom         Aaron           NaN   \n",
       "1      Danny        Abbadi  The Assassin   \n",
       "2      David        Abbott          Tank   \n",
       "3     Shamil  Abdurakhimov         Abrek   \n",
       "4   Hiroyuki           Abe       Abe Ani   \n",
       "\n",
       "                                                link height(ft) weight(lb)  \\\n",
       "0  http://ufcstats.com/fighter-details/93fe7332d1...         --   155 lbs.   \n",
       "1  http://ufcstats.com/fighter-details/15df64c02b...     5' 11\"   155 lbs.   \n",
       "2  http://ufcstats.com/fighter-details/b361180739...      6' 0\"   265 lbs.   \n",
       "3  http://ufcstats.com/fighter-details/2f5cbecbbe...      6' 3\"   235 lbs.   \n",
       "4  http://ufcstats.com/fighter-details/c0ed7b2081...      5' 6\"   145 lbs.   \n",
       "\n",
       "  reach(inch)    stance  wins  losses  draws  belt  SLpM Str. Acc  SApM  \\\n",
       "0          --       NaN     5       3      0     0  0.00       0%  0.00   \n",
       "1          --  Orthodox     4       6      0     0  3.29      38%  4.41   \n",
       "2          --    Switch    10      15      0     0  1.35      30%  3.55   \n",
       "3       76.0\"  Orthodox    20       5      0     0  2.45      44%  2.45   \n",
       "4          --  Orthodox     8      15      3     0  1.71      36%  3.11   \n",
       "\n",
       "  Str. Def  TD Avg TD Acc. TD Def  Sub. Avg  \n",
       "0       0%    0.00      0%     0%       0.0  \n",
       "1      57%    0.00      0%    77%       0.0  \n",
       "2      38%    1.07     33%    66%       0.0  \n",
       "3      58%    1.23     24%    47%       0.2  \n",
       "4      63%    0.00      0%    33%       0.0  "
      ]
     },
     "execution_count": 9,
     "metadata": {},
     "output_type": "execute_result"
    }
   ],
   "source": [
    "fighters.head()"
   ]
  },
  {
   "cell_type": "code",
   "execution_count": 10,
   "metadata": {},
   "outputs": [
    {
     "name": "stdout",
     "output_type": "stream",
     "text": [
      "<class 'pandas.core.frame.DataFrame'>\n",
      "RangeIndex: 3583 entries, 0 to 3582\n",
      "Data columns (total 20 columns):\n",
      " #   Column       Non-Null Count  Dtype  \n",
      "---  ------       --------------  -----  \n",
      " 0   first name   3583 non-null   object \n",
      " 1   last name    3583 non-null   object \n",
      " 2   nickname     1892 non-null   object \n",
      " 3   link         3583 non-null   object \n",
      " 4   height(ft)   3583 non-null   object \n",
      " 5   weight(lb)   3583 non-null   object \n",
      " 6   reach(inch)  3583 non-null   object \n",
      " 7   stance       2779 non-null   object \n",
      " 8   wins         3583 non-null   int64  \n",
      " 9   losses       3583 non-null   int64  \n",
      " 10  draws        3583 non-null   int64  \n",
      " 11  belt         3583 non-null   int64  \n",
      " 12  SLpM         3583 non-null   float64\n",
      " 13  Str. Acc     3583 non-null   object \n",
      " 14  SApM         3583 non-null   float64\n",
      " 15  Str. Def     3583 non-null   object \n",
      " 16  TD Avg       3583 non-null   float64\n",
      " 17  TD Acc.      3583 non-null   object \n",
      " 18  TD Def       3583 non-null   object \n",
      " 19  Sub. Avg     3583 non-null   float64\n",
      "dtypes: float64(4), int64(4), object(12)\n",
      "memory usage: 560.0+ KB\n"
     ]
    }
   ],
   "source": [
    "fighters.info()"
   ]
  },
  {
   "cell_type": "code",
   "execution_count": 11,
   "metadata": {},
   "outputs": [
    {
     "data": {
      "text/html": [
       "<div>\n",
       "<style scoped>\n",
       "    .dataframe tbody tr th:only-of-type {\n",
       "        vertical-align: middle;\n",
       "    }\n",
       "\n",
       "    .dataframe tbody tr th {\n",
       "        vertical-align: top;\n",
       "    }\n",
       "\n",
       "    .dataframe thead th {\n",
       "        text-align: right;\n",
       "    }\n",
       "</style>\n",
       "<table border=\"1\" class=\"dataframe\">\n",
       "  <thead>\n",
       "    <tr style=\"text-align: right;\">\n",
       "      <th></th>\n",
       "      <th>fight date</th>\n",
       "      <th>fight weightclass</th>\n",
       "      <th>win method</th>\n",
       "      <th>rounds</th>\n",
       "      <th>time</th>\n",
       "      <th>Winner</th>\n",
       "      <th>KD W</th>\n",
       "      <th>TD succeeded W</th>\n",
       "      <th>TD attempted W</th>\n",
       "      <th>TD % W</th>\n",
       "      <th>...</th>\n",
       "      <th>str total L</th>\n",
       "      <th>sig str landed L</th>\n",
       "      <th>sig str total L</th>\n",
       "      <th>sig str % L</th>\n",
       "      <th>dist str landed L</th>\n",
       "      <th>dist str total L</th>\n",
       "      <th>clinch str landed L</th>\n",
       "      <th>clinch str total L</th>\n",
       "      <th>ground str landed L</th>\n",
       "      <th>ground str total L</th>\n",
       "    </tr>\n",
       "  </thead>\n",
       "  <tbody>\n",
       "    <tr>\n",
       "      <th>0</th>\n",
       "      <td>December 12, 2020</td>\n",
       "      <td>Flyweight</td>\n",
       "      <td>M-DEC</td>\n",
       "      <td>5</td>\n",
       "      <td>5:00</td>\n",
       "      <td>Deiveson Figueiredo</td>\n",
       "      <td>0.0</td>\n",
       "      <td>2.0</td>\n",
       "      <td>4.0</td>\n",
       "      <td>50</td>\n",
       "      <td>...</td>\n",
       "      <td>256.0</td>\n",
       "      <td>132.0</td>\n",
       "      <td>248.0</td>\n",
       "      <td>53</td>\n",
       "      <td>129.0</td>\n",
       "      <td>240.0</td>\n",
       "      <td>1.0</td>\n",
       "      <td>5.0</td>\n",
       "      <td>2.0</td>\n",
       "      <td>3.0</td>\n",
       "    </tr>\n",
       "    <tr>\n",
       "      <th>1</th>\n",
       "      <td>December 12, 2020</td>\n",
       "      <td>Lightweight</td>\n",
       "      <td>U-DEC</td>\n",
       "      <td>3</td>\n",
       "      <td>5:00</td>\n",
       "      <td>Charles Oliveira</td>\n",
       "      <td>0.0</td>\n",
       "      <td>0.0</td>\n",
       "      <td>0.0</td>\n",
       "      <td>--</td>\n",
       "      <td>...</td>\n",
       "      <td>112.0</td>\n",
       "      <td>41.0</td>\n",
       "      <td>63.0</td>\n",
       "      <td>65</td>\n",
       "      <td>17.0</td>\n",
       "      <td>34.0</td>\n",
       "      <td>0.0</td>\n",
       "      <td>0.0</td>\n",
       "      <td>24.0</td>\n",
       "      <td>29.0</td>\n",
       "    </tr>\n",
       "    <tr>\n",
       "      <th>2</th>\n",
       "      <td>December 12, 2020</td>\n",
       "      <td>Women's Strawweight</td>\n",
       "      <td>U-DEC</td>\n",
       "      <td>3</td>\n",
       "      <td>5:00</td>\n",
       "      <td>Mackenzie Dern</td>\n",
       "      <td>0.0</td>\n",
       "      <td>0.0</td>\n",
       "      <td>5.0</td>\n",
       "      <td>0</td>\n",
       "      <td>...</td>\n",
       "      <td>152.0</td>\n",
       "      <td>63.0</td>\n",
       "      <td>134.0</td>\n",
       "      <td>47</td>\n",
       "      <td>43.0</td>\n",
       "      <td>109.0</td>\n",
       "      <td>18.0</td>\n",
       "      <td>23.0</td>\n",
       "      <td>2.0</td>\n",
       "      <td>2.0</td>\n",
       "    </tr>\n",
       "    <tr>\n",
       "      <th>3</th>\n",
       "      <td>December 12, 2020</td>\n",
       "      <td>Middleweight</td>\n",
       "      <td>KO/TKO</td>\n",
       "      <td>1</td>\n",
       "      <td>1:45</td>\n",
       "      <td>Kevin Holland</td>\n",
       "      <td>0.0</td>\n",
       "      <td>0.0</td>\n",
       "      <td>0.0</td>\n",
       "      <td>--</td>\n",
       "      <td>...</td>\n",
       "      <td>2.0</td>\n",
       "      <td>2.0</td>\n",
       "      <td>2.0</td>\n",
       "      <td>100</td>\n",
       "      <td>0.0</td>\n",
       "      <td>0.0</td>\n",
       "      <td>0.0</td>\n",
       "      <td>0.0</td>\n",
       "      <td>2.0</td>\n",
       "      <td>2.0</td>\n",
       "    </tr>\n",
       "    <tr>\n",
       "      <th>4</th>\n",
       "      <td>December 12, 2020</td>\n",
       "      <td>Heavyweight</td>\n",
       "      <td>KO/TKO</td>\n",
       "      <td>2</td>\n",
       "      <td>2:34</td>\n",
       "      <td>Ciryl Gane</td>\n",
       "      <td>0.0</td>\n",
       "      <td>0.0</td>\n",
       "      <td>1.0</td>\n",
       "      <td>0</td>\n",
       "      <td>...</td>\n",
       "      <td>82.0</td>\n",
       "      <td>59.0</td>\n",
       "      <td>80.0</td>\n",
       "      <td>73</td>\n",
       "      <td>53.0</td>\n",
       "      <td>74.0</td>\n",
       "      <td>4.0</td>\n",
       "      <td>4.0</td>\n",
       "      <td>2.0</td>\n",
       "      <td>2.0</td>\n",
       "    </tr>\n",
       "  </tbody>\n",
       "</table>\n",
       "<p>5 rows × 41 columns</p>\n",
       "</div>"
      ],
      "text/plain": [
       "          fight date    fight weightclass win method  rounds  time  \\\n",
       "0  December 12, 2020            Flyweight      M-DEC       5  5:00   \n",
       "1  December 12, 2020          Lightweight      U-DEC       3  5:00   \n",
       "2  December 12, 2020  Women's Strawweight      U-DEC       3  5:00   \n",
       "3  December 12, 2020         Middleweight     KO/TKO       1  1:45   \n",
       "4  December 12, 2020          Heavyweight     KO/TKO       2  2:34   \n",
       "\n",
       "                Winner  KD W  TD succeeded W  TD attempted W TD % W  ...  \\\n",
       "0  Deiveson Figueiredo   0.0             2.0             4.0     50  ...   \n",
       "1     Charles Oliveira   0.0             0.0             0.0     --  ...   \n",
       "2       Mackenzie Dern   0.0             0.0             5.0      0  ...   \n",
       "3        Kevin Holland   0.0             0.0             0.0     --  ...   \n",
       "4           Ciryl Gane   0.0             0.0             1.0      0  ...   \n",
       "\n",
       "   str total L  sig str landed L  sig str total L  sig str % L  \\\n",
       "0        256.0             132.0            248.0           53   \n",
       "1        112.0              41.0             63.0           65   \n",
       "2        152.0              63.0            134.0           47   \n",
       "3          2.0               2.0              2.0          100   \n",
       "4         82.0              59.0             80.0           73   \n",
       "\n",
       "   dist str landed L  dist str total L clinch str landed L  \\\n",
       "0              129.0             240.0                 1.0   \n",
       "1               17.0              34.0                 0.0   \n",
       "2               43.0             109.0                18.0   \n",
       "3                0.0               0.0                 0.0   \n",
       "4               53.0              74.0                 4.0   \n",
       "\n",
       "   clinch str total L  ground str landed L  ground str total L  \n",
       "0                 5.0                  2.0                 3.0  \n",
       "1                 0.0                 24.0                29.0  \n",
       "2                23.0                  2.0                 2.0  \n",
       "3                 0.0                  2.0                 2.0  \n",
       "4                 4.0                  2.0                 2.0  \n",
       "\n",
       "[5 rows x 41 columns]"
      ]
     },
     "execution_count": 11,
     "metadata": {},
     "output_type": "execute_result"
    }
   ],
   "source": [
    "fights.head()"
   ]
  },
  {
   "cell_type": "code",
   "execution_count": 12,
   "metadata": {},
   "outputs": [
    {
     "name": "stdout",
     "output_type": "stream",
     "text": [
      "<class 'pandas.core.frame.DataFrame'>\n",
      "RangeIndex: 5905 entries, 0 to 5904\n",
      "Data columns (total 41 columns):\n",
      " #   Column               Non-Null Count  Dtype  \n",
      "---  ------               --------------  -----  \n",
      " 0   fight date           5905 non-null   object \n",
      " 1   fight weightclass    5905 non-null   object \n",
      " 2   win method           5905 non-null   object \n",
      " 3   rounds               5905 non-null   int64  \n",
      " 4   time                 5905 non-null   object \n",
      " 5   Winner               5905 non-null   object \n",
      " 6   KD W                 5884 non-null   float64\n",
      " 7   TD succeeded W       5884 non-null   float64\n",
      " 8   TD attempted W       5884 non-null   float64\n",
      " 9   TD % W               5884 non-null   object \n",
      " 10  sub attempts W       5884 non-null   float64\n",
      " 11  pass W               5884 non-null   float64\n",
      " 12  str landed W         5884 non-null   float64\n",
      " 13  str total W          5884 non-null   float64\n",
      " 14  sig str landed W     5884 non-null   float64\n",
      " 15  sig str total W      5884 non-null   float64\n",
      " 16  sig str % W          5884 non-null   object \n",
      " 17  dist str landed W    5884 non-null   float64\n",
      " 18  dist str total W     5884 non-null   float64\n",
      " 19  clinch str landed W  5884 non-null   float64\n",
      " 20  clinch str total W   5884 non-null   float64\n",
      " 21  ground str landed W  5884 non-null   float64\n",
      " 22  ground str total W   5884 non-null   float64\n",
      " 23  Loser                5905 non-null   object \n",
      " 24  KD L                 5884 non-null   float64\n",
      " 25  TD succeeded L       5884 non-null   float64\n",
      " 26  TD attempted L       5884 non-null   float64\n",
      " 27  TD % L               5884 non-null   object \n",
      " 28  sub attempts L       5884 non-null   float64\n",
      " 29  pass L               5884 non-null   float64\n",
      " 30  str landed L         5884 non-null   float64\n",
      " 31  str total L          5884 non-null   float64\n",
      " 32  sig str landed L     5884 non-null   float64\n",
      " 33  sig str total L      5884 non-null   float64\n",
      " 34  sig str % L          5884 non-null   object \n",
      " 35  dist str landed L    5884 non-null   float64\n",
      " 36  dist str total L     5884 non-null   float64\n",
      " 37  clinch str landed L  5884 non-null   float64\n",
      " 38  clinch str total L   5884 non-null   float64\n",
      " 39  ground str landed L  5884 non-null   float64\n",
      " 40  ground str total L   5884 non-null   float64\n",
      "dtypes: float64(30), int64(1), object(10)\n",
      "memory usage: 1.8+ MB\n"
     ]
    }
   ],
   "source": [
    "fights.info()"
   ]
  },
  {
   "cell_type": "markdown",
   "metadata": {},
   "source": [
    "#### Let's first work with events data and try to answer two questions of this notebook. Did global pandemic influenced the number of events UFC had in 2020 and is Las Vegas, Nevada, really a fighting capital of the world?"
   ]
  },
  {
   "cell_type": "code",
   "execution_count": 13,
   "metadata": {},
   "outputs": [],
   "source": [
    "# event date column in events dataframe should better be a timestamp\n",
    "events['event date'] = [datetime.strptime(date, '%B %d, %Y') for date in events['event date']]"
   ]
  },
  {
   "cell_type": "code",
   "execution_count": 35,
   "metadata": {},
   "outputs": [],
   "source": [
    "# create new columns to help with those questions\n",
    "events['year'] = events['event date'].dt.year\n",
    "events['month'] = events['event date'].dt.month\n",
    "events['day'] = events['event date'].dt.day\n",
    "events['weekday'] = events['event date'].dt.weekday\n",
    "events['city'] = [place.split(',')[0].strip() for place in events['event place']]\n",
    "events['country'] = [place.split(',')[-1].strip() for place in events['event place']]"
   ]
  },
  {
   "cell_type": "code",
   "execution_count": 15,
   "metadata": {},
   "outputs": [
    {
     "data": {
      "text/html": [
       "<div>\n",
       "<style scoped>\n",
       "    .dataframe tbody tr th:only-of-type {\n",
       "        vertical-align: middle;\n",
       "    }\n",
       "\n",
       "    .dataframe tbody tr th {\n",
       "        vertical-align: top;\n",
       "    }\n",
       "\n",
       "    .dataframe thead th {\n",
       "        text-align: right;\n",
       "    }\n",
       "</style>\n",
       "<table border=\"1\" class=\"dataframe\">\n",
       "  <thead>\n",
       "    <tr style=\"text-align: right;\">\n",
       "      <th></th>\n",
       "      <th>event name</th>\n",
       "      <th>event date</th>\n",
       "      <th>event place</th>\n",
       "      <th>event link</th>\n",
       "      <th>year</th>\n",
       "      <th>month</th>\n",
       "      <th>day</th>\n",
       "      <th>weekday</th>\n",
       "      <th>city</th>\n",
       "      <th>country</th>\n",
       "    </tr>\n",
       "  </thead>\n",
       "  <tbody>\n",
       "    <tr>\n",
       "      <th>0</th>\n",
       "      <td>UFC 256: Figueiredo vs. Moreno</td>\n",
       "      <td>2020-12-12</td>\n",
       "      <td>Las Vegas, Nevada, USA</td>\n",
       "      <td>http://ufcstats.com/event-details/d0d43cb9b14f...</td>\n",
       "      <td>2020</td>\n",
       "      <td>12</td>\n",
       "      <td>12</td>\n",
       "      <td>5</td>\n",
       "      <td>Las Vegas</td>\n",
       "      <td>USA</td>\n",
       "    </tr>\n",
       "    <tr>\n",
       "      <th>1</th>\n",
       "      <td>UFC Fight Night: Hermansson vs. Vettori</td>\n",
       "      <td>2020-12-05</td>\n",
       "      <td>Las Vegas, Nevada, USA</td>\n",
       "      <td>http://ufcstats.com/event-details/398b440e73d5...</td>\n",
       "      <td>2020</td>\n",
       "      <td>12</td>\n",
       "      <td>5</td>\n",
       "      <td>5</td>\n",
       "      <td>Las Vegas</td>\n",
       "      <td>USA</td>\n",
       "    </tr>\n",
       "    <tr>\n",
       "      <th>2</th>\n",
       "      <td>UFC Fight Night: Smith vs. Clark</td>\n",
       "      <td>2020-11-28</td>\n",
       "      <td>Las Vegas, Nevada, USA</td>\n",
       "      <td>http://ufcstats.com/event-details/992c82450d96...</td>\n",
       "      <td>2020</td>\n",
       "      <td>11</td>\n",
       "      <td>28</td>\n",
       "      <td>5</td>\n",
       "      <td>Las Vegas</td>\n",
       "      <td>USA</td>\n",
       "    </tr>\n",
       "    <tr>\n",
       "      <th>3</th>\n",
       "      <td>UFC 255: Figueiredo vs. Perez</td>\n",
       "      <td>2020-11-21</td>\n",
       "      <td>Las Vegas, Nevada, USA</td>\n",
       "      <td>http://ufcstats.com/event-details/bbb15f301e4a...</td>\n",
       "      <td>2020</td>\n",
       "      <td>11</td>\n",
       "      <td>21</td>\n",
       "      <td>5</td>\n",
       "      <td>Las Vegas</td>\n",
       "      <td>USA</td>\n",
       "    </tr>\n",
       "    <tr>\n",
       "      <th>4</th>\n",
       "      <td>UFC Fight Night: Felder vs. Dos Anjos</td>\n",
       "      <td>2020-11-14</td>\n",
       "      <td>Las Vegas, Nevada, USA</td>\n",
       "      <td>http://ufcstats.com/event-details/3bc27ec15fac...</td>\n",
       "      <td>2020</td>\n",
       "      <td>11</td>\n",
       "      <td>14</td>\n",
       "      <td>5</td>\n",
       "      <td>Las Vegas</td>\n",
       "      <td>USA</td>\n",
       "    </tr>\n",
       "  </tbody>\n",
       "</table>\n",
       "</div>"
      ],
      "text/plain": [
       "                                event name event date             event place  \\\n",
       "0           UFC 256: Figueiredo vs. Moreno 2020-12-12  Las Vegas, Nevada, USA   \n",
       "1  UFC Fight Night: Hermansson vs. Vettori 2020-12-05  Las Vegas, Nevada, USA   \n",
       "2         UFC Fight Night: Smith vs. Clark 2020-11-28  Las Vegas, Nevada, USA   \n",
       "3            UFC 255: Figueiredo vs. Perez 2020-11-21  Las Vegas, Nevada, USA   \n",
       "4    UFC Fight Night: Felder vs. Dos Anjos 2020-11-14  Las Vegas, Nevada, USA   \n",
       "\n",
       "                                          event link  year  month  day  \\\n",
       "0  http://ufcstats.com/event-details/d0d43cb9b14f...  2020     12   12   \n",
       "1  http://ufcstats.com/event-details/398b440e73d5...  2020     12    5   \n",
       "2  http://ufcstats.com/event-details/992c82450d96...  2020     11   28   \n",
       "3  http://ufcstats.com/event-details/bbb15f301e4a...  2020     11   21   \n",
       "4  http://ufcstats.com/event-details/3bc27ec15fac...  2020     11   14   \n",
       "\n",
       "   weekday       city country  \n",
       "0        5  Las Vegas     USA  \n",
       "1        5  Las Vegas     USA  \n",
       "2        5  Las Vegas     USA  \n",
       "3        5  Las Vegas     USA  \n",
       "4        5  Las Vegas     USA  "
      ]
     },
     "execution_count": 15,
     "metadata": {},
     "output_type": "execute_result"
    }
   ],
   "source": [
    "# check out what we've got\n",
    "events.head()"
   ]
  },
  {
   "cell_type": "code",
   "execution_count": 24,
   "metadata": {},
   "outputs": [],
   "source": [
    "# a function to plot the graphs\n",
    "def plot_it(df,kind,figsize=(10,6)):\n",
    "    \"\"\"\n",
    "    A function to plot quick graphs.\n",
    "    df - a dataframe or a series,\n",
    "    kind - graph to plot ('line','bar',etc.),\n",
    "    figsize - size of the figure (default is (10,6))\n",
    "    \"\"\"\n",
    "    plt.figure(figsize=figsize)\n",
    "    return df.plot(kind=kind)"
   ]
  },
  {
   "cell_type": "code",
   "execution_count": 28,
   "metadata": {},
   "outputs": [
    {
     "data": {
      "text/plain": [
       "year\n",
       "1994     3\n",
       "1995     4\n",
       "1996     5\n",
       "1997     5\n",
       "1998     3\n",
       "1999     6\n",
       "2000     6\n",
       "2001     5\n",
       "2002     7\n",
       "2003     5\n",
       "2004     5\n",
       "2005    10\n",
       "2006    18\n",
       "2007    19\n",
       "2008    20\n",
       "2009    20\n",
       "2010    24\n",
       "2011    27\n",
       "2012    31\n",
       "2013    33\n",
       "2014    46\n",
       "2015    41\n",
       "2016    41\n",
       "2017    39\n",
       "2018    39\n",
       "2019    42\n",
       "2020    40\n",
       "Name: event name, dtype: int64"
      ]
     },
     "execution_count": 28,
     "metadata": {},
     "output_type": "execute_result"
    }
   ],
   "source": [
    "# number of events UFC did per year since 1994\n",
    "events_per_year = events.groupby('year')['event name'].count()\n",
    "events_per_year"
   ]
  },
  {
   "cell_type": "code",
   "execution_count": 23,
   "metadata": {},
   "outputs": [
    {
     "data": {
      "image/png": "[encoded data removed]",
      "text/plain": [
       "<Figure size 720x432 with 1 Axes>"
      ]
     },
     "metadata": {
      "needs_background": "light"
     },
     "output_type": "display_data"
    }
   ],
   "source": [
    "plot_it(df=events_per_year,kind='bar');"
   ]
  },
  {
   "cell_type": "markdown",
   "metadata": {},
   "source": [
    "So, according to this graph we can see that number of events has been steadily growing since 2005 reaching more than 40 events per year in mid 2010s (46 events in 2014). That is actually not a coincidense. In 2005 UFC launched its reality show, Ultimate Fighter, on Spike TV which became a huge success and exploded UFC popularity. Since 2014 UFC has been hosting around 40 events per year which is also true for 2020. Despite global pandemic the promotion will have 41 events this year. And considering all major sports were on a lockdown, I'm sure promotion's PPV number has also been on a high level (although this information is disclosed and I cannot check it)."
   ]
  },
  {
   "cell_type": "markdown",
   "metadata": {},
   "source": [
    "And just for fun, I want to have a look what is the bussiest month for UFC in general."
   ]
  },
  {
   "cell_type": "code",
   "execution_count": 37,
   "metadata": {},
   "outputs": [
    {
     "data": {
      "text/plain": [
       "month\n",
       "1     36\n",
       "2     44\n",
       "3     38\n",
       "4     43\n",
       "5     41\n",
       "6     51\n",
       "7     51\n",
       "8     43\n",
       "9     49\n",
       "10    42\n",
       "11    53\n",
       "12    53\n",
       "Name: event name, dtype: int64"
      ]
     },
     "execution_count": 37,
     "metadata": {},
     "output_type": "execute_result"
    }
   ],
   "source": [
    "events_per_month"
   ]
  },
  {
   "cell_type": "code",
   "execution_count": 36,
   "metadata": {},
   "outputs": [
    {
     "data": {
      "image/png": "[encoded data removed]",
      "text/plain": [
       "<Figure size 576x288 with 1 Axes>"
      ]
     },
     "metadata": {
      "needs_background": "light"
     },
     "output_type": "display_data"
    }
   ],
   "source": [
    "events_per_month = events.groupby('month')['event name'].count()\n",
    "plot_it(events_per_month,'bar',(8,4));"
   ]
  },
  {
   "cell_type": "markdown",
   "metadata": {},
   "source": [
    "So, bussiest month for the company are November and December with 53 events and June and July with 51 events in UFC history."
   ]
  },
  {
   "cell_type": "code",
   "execution_count": 44,
   "metadata": {},
   "outputs": [],
   "source": [
    "# number of events in UFC history (top 10) per city and per country (top 10)\n",
    "events_per_city = events.groupby('city')['event name'].count().sort_values(ascending=False)[:10]\n",
    "events_per_country = events.groupby('country')['event name'].count().sort_values(ascending=False)[:10]"
   ]
  },
  {
   "cell_type": "code",
   "execution_count": 45,
   "metadata": {},
   "outputs": [
    {
     "data": {
      "text/plain": [
       "city\n",
       "Las Vegas         144\n",
       "Abu Dhabi          12\n",
       "London             11\n",
       "Rio de Janeiro     10\n",
       "Atlantic City       9\n",
       "Anaheim             8\n",
       "Sao Paulo           8\n",
       "Newark              8\n",
       "Chicago             7\n",
       "Los Angeles         7\n",
       "Name: event name, dtype: int64"
      ]
     },
     "execution_count": 45,
     "metadata": {},
     "output_type": "execute_result"
    }
   ],
   "source": [
    "events_per_city"
   ]
  },
  {
   "cell_type": "code",
   "execution_count": 51,
   "metadata": {},
   "outputs": [
    {
     "data": {
      "image/png": "[encoded data removed]",
      "text/plain": [
       "<Figure size 720x432 with 1 Axes>"
      ]
     },
     "metadata": {
      "needs_background": "light"
     },
     "output_type": "display_data"
    }
   ],
   "source": [
    "plot_it(events_per_city,'barh');"
   ]
  },
  {
   "cell_type": "code",
   "execution_count": 46,
   "metadata": {},
   "outputs": [
    {
     "data": {
      "text/plain": [
       "country\n",
       "USA                     365\n",
       "Brazil                   37\n",
       "Canada                   31\n",
       "United Kingdom           24\n",
       "Australia                15\n",
       "United Arab Emirates     12\n",
       "Japan                     9\n",
       "Mexico                    6\n",
       "Sweden                    6\n",
       "China                     6\n",
       "Name: event name, dtype: int64"
      ]
     },
     "execution_count": 46,
     "metadata": {},
     "output_type": "execute_result"
    }
   ],
   "source": [
    "events_per_country"
   ]
  },
  {
   "cell_type": "code",
   "execution_count": 52,
   "metadata": {},
   "outputs": [
    {
     "data": {
      "image/png": "[encoded data removed]",
      "text/plain": [
       "<Figure size 720x432 with 1 Axes>"
      ]
     },
     "metadata": {
      "needs_background": "light"
     },
     "output_type": "display_data"
    }
   ],
   "source": [
    "plot_it(events_per_country,'barh');"
   ]
  },
  {
   "cell_type": "code",
   "execution_count": 48,
   "metadata": {},
   "outputs": [
    {
     "data": {
      "text/plain": [
       "city\n",
       "Las Vegas       22\n",
       "Abu Dhabi        9\n",
       "Jacksonville     3\n",
       "Rio Rancho       1\n",
       "Raleigh          1\n",
       "Norfolk          1\n",
       "Houston          1\n",
       "Brasilia         1\n",
       "Auckland         1\n",
       "Name: event name, dtype: int64"
      ]
     },
     "execution_count": 48,
     "metadata": {},
     "output_type": "execute_result"
    }
   ],
   "source": [
    "events_per_city_2020 = events[events['year']==2020].groupby('city')['event name'].count().sort_values(ascending=False)\n",
    "events_per_city_2020"
   ]
  },
  {
   "cell_type": "code",
   "execution_count": 50,
   "metadata": {},
   "outputs": [
    {
     "data": {
      "image/png": "[encoded data removed]",
      "text/plain": [
       "<Figure size 720x432 with 1 Axes>"
      ]
     },
     "metadata": {
      "needs_background": "light"
     },
     "output_type": "display_data"
    }
   ],
   "source": [
    "plot_it(events_per_city_2020,'barh');"
   ]
  },
  {
   "cell_type": "markdown",
   "metadata": {},
   "source": [
    "Well, Las Vegas is indeed a fighting capital of the world (at least for mma). 144 out 365 events on US territory in UFC history were held in Las Vegas, Nevada. Second most popular is Abu Dhabi, UAE, with only 12 events hosted there, 9 of which were in 2020 when UFC announced its Fight island. Interestingly, China, the country with biggest population in the world, hosted only 6 events in promotion's history. I guess there is some room for expantion there!"
   ]
  },
  {
   "cell_type": "markdown",
   "metadata": {},
   "source": [
    "Now, many people believe that the level of entartainment of the fight is measured on if there was an early stoppage. They find the fights that go the distance a little less exciting rather than if there is a KO or a submission victory. I don't think that's complety true but just to toy with that idea I want to know what weightclass in UFC has the most KO or submission victories."
   ]
  },
  {
   "cell_type": "code",
   "execution_count": 53,
   "metadata": {},
   "outputs": [
    {
     "data": {
      "text/plain": [
       "U-DEC         2041\n",
       "KO/TKO        1956\n",
       "SUB           1205\n",
       "S-DEC          560\n",
       "M-DEC           64\n",
       "Overturned      45\n",
       "DQ              17\n",
       "CNC             15\n",
       "Other            2\n",
       "Name: win method, dtype: int64"
      ]
     },
     "execution_count": 53,
     "metadata": {},
     "output_type": "execute_result"
    }
   ],
   "source": [
    "# first, what type of victory is most common\n",
    "fights['win method'].value_counts()"
   ]
  },
  {
   "cell_type": "code",
   "execution_count": 55,
   "metadata": {},
   "outputs": [
    {
     "data": {
      "image/png": "[encoded data removed]",
      "text/plain": [
       "<Figure size 720x432 with 1 Axes>"
      ]
     },
     "metadata": {
      "needs_background": "light"
     },
     "output_type": "display_data"
    }
   ],
   "source": [
    "# a dataframe with number of early stoppage fights grouped by weightclass\n",
    "early_stop = fights[(fights['win method']=='KO/TKO')|\n",
    "                   (fights['win method']=='SUB')].groupby('fight weightclass')['Winner'].count().sort_values(ascending=False)\n",
    "plot_it(early_stop,'barh');"
   ]
  },
  {
   "cell_type": "markdown",
   "metadata": {},
   "source": [
    "If we look at this graph, it seems like most of welter- or lightweight fights don't go the distance. I think it's a bit misleading because I belive there are more fights in general in those weightclasses than, let's say, in women's featherweight."
   ]
  },
  {
   "cell_type": "code",
   "execution_count": 57,
   "metadata": {},
   "outputs": [
    {
     "data": {
      "image/png": "[encoded data removed]",
      "text/plain": [
       "<Figure size 720x432 with 1 Axes>"
      ]
     },
     "metadata": {
      "needs_background": "light"
     },
     "output_type": "display_data"
    }
   ],
   "source": [
    "total_fights = fights.groupby('fight weightclass')['Winner'].count().sort_values(ascending=False)\n",
    "plot_it(total_fights,'barh');"
   ]
  },
  {
   "cell_type": "markdown",
   "metadata": {},
   "source": [
    "But we want to know which weightclass is more exciting. We need to find a weightclass with highest percentage of fights stopped early."
   ]
  },
  {
   "cell_type": "code",
   "execution_count": 58,
   "metadata": {},
   "outputs": [
    {
     "data": {
      "text/html": [
       "<div>\n",
       "<style scoped>\n",
       "    .dataframe tbody tr th:only-of-type {\n",
       "        vertical-align: middle;\n",
       "    }\n",
       "\n",
       "    .dataframe tbody tr th {\n",
       "        vertical-align: top;\n",
       "    }\n",
       "\n",
       "    .dataframe thead th {\n",
       "        text-align: right;\n",
       "    }\n",
       "</style>\n",
       "<table border=\"1\" class=\"dataframe\">\n",
       "  <thead>\n",
       "    <tr style=\"text-align: right;\">\n",
       "      <th></th>\n",
       "      <th>Total fights</th>\n",
       "      <th>Stopped early</th>\n",
       "    </tr>\n",
       "  </thead>\n",
       "  <tbody>\n",
       "    <tr>\n",
       "      <th>Lightweight</th>\n",
       "      <td>1089</td>\n",
       "      <td>546</td>\n",
       "    </tr>\n",
       "    <tr>\n",
       "      <th>Welterweight</th>\n",
       "      <td>1065</td>\n",
       "      <td>549</td>\n",
       "    </tr>\n",
       "    <tr>\n",
       "      <th>Middleweight</th>\n",
       "      <td>805</td>\n",
       "      <td>485</td>\n",
       "    </tr>\n",
       "    <tr>\n",
       "      <th>Heavyweight</th>\n",
       "      <td>576</td>\n",
       "      <td>401</td>\n",
       "    </tr>\n",
       "    <tr>\n",
       "      <th>Light Heavyweight</th>\n",
       "      <td>556</td>\n",
       "      <td>339</td>\n",
       "    </tr>\n",
       "    <tr>\n",
       "      <th>Featherweight</th>\n",
       "      <td>538</td>\n",
       "      <td>235</td>\n",
       "    </tr>\n",
       "    <tr>\n",
       "      <th>Bantamweight</th>\n",
       "      <td>458</td>\n",
       "      <td>224</td>\n",
       "    </tr>\n",
       "    <tr>\n",
       "      <th>Flyweight</th>\n",
       "      <td>219</td>\n",
       "      <td>91</td>\n",
       "    </tr>\n",
       "    <tr>\n",
       "      <th>Women's Strawweight</th>\n",
       "      <td>186</td>\n",
       "      <td>57</td>\n",
       "    </tr>\n",
       "    <tr>\n",
       "      <th>Women's Bantamweight</th>\n",
       "      <td>143</td>\n",
       "      <td>58</td>\n",
       "    </tr>\n",
       "    <tr>\n",
       "      <th>Open Weight</th>\n",
       "      <td>117</td>\n",
       "      <td>106</td>\n",
       "    </tr>\n",
       "    <tr>\n",
       "      <th>Women's Flyweight</th>\n",
       "      <td>103</td>\n",
       "      <td>41</td>\n",
       "    </tr>\n",
       "    <tr>\n",
       "      <th>Catch Weight</th>\n",
       "      <td>34</td>\n",
       "      <td>19</td>\n",
       "    </tr>\n",
       "    <tr>\n",
       "      <th>Women's Featherweight</th>\n",
       "      <td>15</td>\n",
       "      <td>9</td>\n",
       "    </tr>\n",
       "    <tr>\n",
       "      <th>Super Heavyweight</th>\n",
       "      <td>1</td>\n",
       "      <td>1</td>\n",
       "    </tr>\n",
       "  </tbody>\n",
       "</table>\n",
       "</div>"
      ],
      "text/plain": [
       "                       Total fights  Stopped early\n",
       "Lightweight                    1089            546\n",
       "Welterweight                   1065            549\n",
       "Middleweight                    805            485\n",
       "Heavyweight                     576            401\n",
       "Light Heavyweight               556            339\n",
       "Featherweight                   538            235\n",
       "Bantamweight                    458            224\n",
       "Flyweight                       219             91\n",
       "Women's Strawweight             186             57\n",
       "Women's Bantamweight            143             58\n",
       "Open Weight                     117            106\n",
       "Women's Flyweight               103             41\n",
       "Catch Weight                     34             19\n",
       "Women's Featherweight            15              9\n",
       "Super Heavyweight                 1              1"
      ]
     },
     "execution_count": 58,
     "metadata": {},
     "output_type": "execute_result"
    }
   ],
   "source": [
    "fights_by_weightclass = pd.concat([total_fights,early_stop], axis=1)\n",
    "fights_by_weightclass.columns = ['Total fights','Stopped early']\n",
    "fights_by_weightclass"
   ]
  },
  {
   "cell_type": "code",
   "execution_count": 61,
   "metadata": {},
   "outputs": [
    {
     "data": {
      "image/png": "[encoded data removed]",
      "text/plain": [
       "<Figure size 720x432 with 1 Axes>"
      ]
     },
     "metadata": {
      "needs_background": "light"
     },
     "output_type": "display_data"
    }
   ],
   "source": [
    "# and a new column to show % of fights stopped early\n",
    "fights_by_weightclass['% stopped early'] = round(fights_by_weightclass['Stopped early']/fights_by_weightclass['Total fights']*100,\n",
    "                                                 2)\n",
    "\n",
    "# most exciting weightclass (drop first 2, super heavyweight and open weight, and catch weight \n",
    "# because they don't have them anymore)\n",
    "exciting_weightclass = fights_by_weightclass['% stopped early'].sort_values(ascending=False)[2:].drop('Catch Weight', axis=0)\n",
    "plot_it(exciting_weightclass,'barh');"
   ]
  },
  {
   "cell_type": "markdown",
   "metadata": {},
   "source": [
    "So, heavyweight happens to be the most exciting weightclass in UFC with almost 70% of the fights didn't go the distance. Interestingly, in both men and women weightclasses, the bigger the fighters are the more likely the fight to be stoppage victory."
   ]
  },
  {
   "cell_type": "markdown",
   "metadata": {},
   "source": [
    "#### to be continued..."
   ]
  },
  {
   "cell_type": "code",
   "execution_count": null,
   "metadata": {},
   "outputs": [],
   "source": []
  }
 ],
 "metadata": {
  "kernelspec": {
   "display_name": "Python 3",
   "language": "python",
   "name": "python3"
  },
  "language_info": {
   "codemirror_mode": {
    "name": "ipython",
    "version": 3
   },
   "file_extension": ".py",
   "mimetype": "text/x-python",
   "name": "python",
   "nbconvert_exporter": "python",
   "pygments_lexer": "ipython3",
   "version": "3.7.8"
  }
 },
 "nbformat": 4,
 "nbformat_minor": 4
}
